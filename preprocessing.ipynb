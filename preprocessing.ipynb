{
 "cells": [
  {
   "cell_type": "code",
   "execution_count": 1,
   "metadata": {},
   "outputs": [],
   "source": [
    "# !pip install nibabel nilearn scikit-learn pandas numpy matplotlib\n",
    "import os\n",
    "import numpy as np\n",
    "import pandas as pd\n",
    "import nibabel as nib\n",
    "import matplotlib.pyplot as plt\n",
    "\n",
    "from nilearn.maskers import NiftiMasker\n",
    "from sklearn.svm import SVC\n",
    "from sklearn.model_selection import cross_val_score, StratifiedKFold\n",
    "from sklearn.metrics import accuracy_score\n",
    "from scipy.stats import pearsonr\n",
    "\n",
    "%matplotlib inline"
   ]
  },
  {
   "cell_type": "markdown",
   "metadata": {},
   "source": [
    "## Load PsychPY timing data"
   ]
  },
  {
   "cell_type": "code",
   "execution_count": 12,
   "metadata": {},
   "outputs": [],
   "source": [
    "# Convert start/stop times to scan indices\n",
    "def time_to_index(times, TR=1.5):\n",
    "    return np.round(np.array(times) / TR).astype(int)"
   ]
  },
  {
   "cell_type": "code",
   "execution_count": null,
   "metadata": {},
   "outputs": [],
   "source": [
    "def get_index_range(start_times, stop_times, TR=1.5):\n",
    "    indices = []\n",
    "    for start, stop in zip(start_times, stop_times):\n",
    "        start_idx, stop_idx = time_to_index([start, stop], TR)\n",
    "        indices.extend(range(start_idx, stop_idx))\n",
    "    return sorted(set(indices))\n",
    "    \n",
    "def convert_psychpy_time_to_fmri_index(beh_file):\n",
    "    psychopy_df = pd.read_csv(beh_file)\n",
    "    # Extract and clean start/stop columns\n",
    "    view_start = psychopy_df['view.started'].dropna().values\n",
    "    view_stop = psychopy_df['view.stopped'].dropna().values\n",
    "\n",
    "    recall_start = psychopy_df['recall.started'].dropna().values\n",
    "    recall_stop = psychopy_df['recall.stopped'].dropna().values\n",
    "\n",
    "    imagine_start = psychopy_df['imagine_condition.started'].dropna().values\n",
    "    imagine_stop = psychopy_df['imagine_condition.stopped'].dropna().values\n",
    "\n",
    "    view_indices = get_index_range(view_start, view_stop)\n",
    "    recall_indices = get_index_range(recall_start, recall_stop)\n",
    "    imagine_indices = get_index_range(imagine_start, imagine_stop)\n",
    "    \n",
    "    return view_indices, recall_indices, imagine_indices"
   ]
  },
  {
   "cell_type": "code",
   "execution_count": 18,
   "metadata": {},
   "outputs": [
    {
     "name": "stdout",
     "output_type": "stream",
     "text": [
      "[15, 16, 17, 18, 19, 20, 32, 33, 34, 35, 36, 37, 38, 49, 50, 51, 52, 53, 54, 55, 67, 68, 69, 70, 71, 72, 99, 100, 101, 102, 103, 104, 105, 117, 118, 119, 120, 121, 122, 134, 135, 136, 137, 138, 139, 140, 151, 152, 153, 154, 155, 156, 157, 184, 185, 186, 187, 188, 189, 190, 201, 202, 203, 204, 205, 206, 207, 219, 220, 221, 222, 223, 224, 236, 237, 238, 239, 240, 241, 242, 269, 270, 271, 272, 273, 274, 286, 287, 288, 289, 290, 291, 292, 303, 304, 305, 306, 307, 308, 309, 321, 322, 323, 324, 325, 326, 353, 354, 355, 356, 357, 358, 359, 371, 372, 373, 374, 375, 376, 388, 389, 390, 391, 392, 393, 394, 405, 406, 407, 408, 409, 410, 411, 438, 439, 440, 441, 442, 443, 455, 456, 457, 458, 459, 460, 461, 472, 473, 474, 475, 476, 477, 478, 490, 491, 492, 493, 494, 495]\n"
     ]
    }
   ],
   "source": [
    "# Example usage for subject 1:\n",
    "subj_behavior_file = {1:\"psychopy_data/1_fmri design_2025-03-04_15h31.40.655.csv\",\n",
    "                      3:\"psychopy_data/2_fmri design_2025-03-05_15h36.18.659.csv\",\n",
    "                      4:\"psychopy_data/4_fmri design_2025-03-05_14h28.37.417.csv\"\n",
    "                      }\n",
    "index = convert_psychpy_time_to_fmri_index(subj_behavior_file[1])"
   ]
  },
  {
   "cell_type": "markdown",
   "metadata": {},
   "source": [
    "## Load the fMRI data"
   ]
  },
  {
   "cell_type": "code",
   "execution_count": 35,
   "metadata": {},
   "outputs": [],
   "source": [
    "# Define data paths\n",
    "data_dir = \"/jukebox/hasson/snastase/neu502b-2025/neu502b-fmri/data/bids/derivatives/fmriprep\" \n",
    "subjects = [\"sub-01/func/\", \"sub-03/func/\", \"sub-04/func/\"]  # Assuming 20 subjects, update as needed\n",
    "task_prefix = \"imagine\""
   ]
  },
  {
   "cell_type": "code",
   "execution_count": 8,
   "metadata": {},
   "outputs": [],
   "source": [
    "output_dir = \"neural_activity\"\n",
    "os.makedirs(output_dir, exist_ok=True)\n",
    "\n",
    "def extract_neural_activity(subject):\n",
    "    print(f\"Processing {subject}...\")\n",
    "\n",
    "    # Find the preprocessed BOLD image\n",
    "    bold_file = None\n",
    "    for f in os.listdir(os.path.join(data_dir, subject)):\n",
    "        if task_prefix in f and \"desc-preproc_bold.nii.gz\" in f:\n",
    "            bold_file = os.path.join(data_dir, subject, f)\n",
    "            break\n",
    "\n",
    "    if not bold_file:\n",
    "        print(f\"No preprocessed BOLD file found for {subject}.\")\n",
    "        return\n",
    "\n",
    "    # Load fMRI data\n",
    "    bold_img = nib.load(bold_file)\n",
    "\n",
    "    # Find brain mask\n",
    "    mask_file = None\n",
    "    for f in os.listdir(os.path.join(data_dir, subject)):\n",
    "        if task_prefix in f and \"desc-brain_mask.nii.gz\" in f:\n",
    "            mask_file = os.path.join(data_dir, subject, f)\n",
    "            break\n",
    "\n",
    "    if mask_file:\n",
    "        mask_img = nib.load(mask_file)\n",
    "        print(f\"Using brain mask: {mask_file}\")\n",
    "    else:\n",
    "        print(f\"No explicit brain mask found. Will compute one.\")\n",
    "        mask_img = None\n",
    "    \n",
    "    confound_tsv = None\n",
    "    for f in os.listdir(os.path.join(data_dir, subject)):\n",
    "        if (task_prefix in f) and (\"desc-confounds_timeseries.tsv\" in f):\n",
    "            confound_tsv = os.path.join(data_dir, f)\n",
    "            break\n",
    "\n",
    "    confound_data = None\n",
    "    if confound_tsv is not None:\n",
    "        df_conf = pd.read_csv(confound_tsv, sep='\\t')\n",
    "        # pick some columns, e.g., 6 motion parameters\n",
    "        nuisance_cols = ['trans_x','trans_y','trans_z','rot_x','rot_y','rot_z']\n",
    "        nuisance_cols = [c for c in nuisance_cols if c in df_conf.columns]\n",
    "        confound_data = df_conf[nuisance_cols].fillna(method='bfill').fillna(method='ffill').values\n",
    "\n",
    "# ---------\n",
    "    \n",
    "    # Extract time series from masked brain voxels\n",
    "    masker = NiftiMasker(mask_img=mask_img, \n",
    "                         standardize=True,\n",
    "                        high_pass=0.01)\n",
    "    masker.fit(bold_img)\n",
    "    time_series = masker.transform(bold_img, confounds=confound_data)\n",
    "    \n",
    "    print(f\"Extracted neural activity shape (TRs x voxels): {time_series.shape}\")  # (T, N_voxels)\n",
    "    return time_series"
   ]
  },
  {
   "cell_type": "code",
   "execution_count": 37,
   "metadata": {},
   "outputs": [
    {
     "name": "stdout",
     "output_type": "stream",
     "text": [
      "Processing sub-01/func/...\n",
      "Using brain mask: /jukebox/hasson/snastase/neu502b-2025/neu502b-fmri/data/bids/derivatives/fmriprep/sub-01/func/sub-01_task-imagine_space-MNI152NLin2009cAsym_desc-brain_mask.nii.gz\n"
     ]
    },
    {
     "name": "stderr",
     "output_type": "stream",
     "text": [
      "/usr/people/yx7967/miniconda3/envs/myenv/lib/python3.8/site-packages/nilearn/maskers/nifti_masker.py:110: UserWarning: imgs are being resampled to the mask_img resolution. This process is memory intensive. You might want to provide a target_affine that is equal to the affine of the imgs or resample the mask beforehand to save memory and computation time.\n",
      "  warnings.warn(\n"
     ]
    },
    {
     "name": "stdout",
     "output_type": "stream",
     "text": [
      "Extracted neural activity shape: (535, 73291)\n",
      "Processing sub-03/func/...\n",
      "Using brain mask: /jukebox/hasson/snastase/neu502b-2025/neu502b-fmri/data/bids/derivatives/fmriprep/sub-03/func/sub-03_task-imagine_space-T1w_desc-brain_mask.nii.gz\n",
      "Extracted neural activity shape: (535, 60764)\n",
      "Processing sub-04/func/...\n",
      "Using brain mask: /jukebox/hasson/snastase/neu502b-2025/neu502b-fmri/data/bids/derivatives/fmriprep/sub-04/func/sub-04_task-imagine_space-T1w_desc-brain_mask.nii.gz\n",
      "Extracted neural activity shape: (535, 56978)\n"
     ]
    }
   ],
   "source": [
    "# Run processing for all subjects\n",
    "for subject in subjects:\n",
    "    extract_neural_activity(subject)"
   ]
  },
  {
   "cell_type": "markdown",
   "metadata": {},
   "source": [
    "## Multivariate pattern analysis (whole brain analysis)\n",
    "* Train the binary category classifier on the view condition\n",
    "* Test it on the recall and imagine condition (also cross validation)\n",
    "\n",
    "See notebook: fmri-4/fmri-4-mvpa-key.ipynb\n",
    "\n",
    "Ref handbook: https://brainhack-princeton.github.io/handbook/content_pages/05-02-mvpa.html\n"
   ]
  },
  {
   "cell_type": "code",
   "execution_count": null,
   "metadata": {},
   "outputs": [],
   "source": []
  },
  {
   "cell_type": "markdown",
   "metadata": {},
   "source": [
    "## Representational Similarity Analysis (RSA) \n",
    "\n",
    "* Keep the category the same (e.g. dog), what is the similarity between view, recall, and imagine conditions\n",
    "* Compare the within-category similarity (within dogs vs within flowers)\n",
    "* Expect flower category to be more clustered because of visual similarity\n",
    "* Produce correlation matrix\n",
    "\n",
    "See notebook: fmri-5/fmri-5-rsa-key.ipynb\n"
   ]
  },
  {
   "cell_type": "markdown",
   "metadata": {},
   "source": []
  }
 ],
 "metadata": {
  "kernelspec": {
   "display_name": "myenv",
   "language": "python",
   "name": "python3"
  },
  "language_info": {
   "codemirror_mode": {
    "name": "ipython",
    "version": 3
   },
   "file_extension": ".py",
   "mimetype": "text/x-python",
   "name": "python",
   "nbconvert_exporter": "python",
   "pygments_lexer": "ipython3",
   "version": "3.8.20"
  }
 },
 "nbformat": 4,
 "nbformat_minor": 2
}
