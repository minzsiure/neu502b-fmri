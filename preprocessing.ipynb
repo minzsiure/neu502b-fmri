{
 "cells": [
  {
   "cell_type": "code",
   "execution_count": 3,
   "metadata": {},
   "outputs": [],
   "source": [
    "import os\n",
    "import nibabel as nib\n",
    "import numpy as np\n",
    "import pandas as pd\n",
    "from nilearn import image, masking, plotting, glm\n",
    "from nilearn.input_data import NiftiMasker\n",
    "from nilearn.glm.first_level import FirstLevelModel"
   ]
  },
  {
   "cell_type": "code",
   "execution_count": 35,
   "metadata": {},
   "outputs": [],
   "source": [
    "# Define data paths\n",
    "data_dir = \"/jukebox/hasson/snastase/neu502b-2025/neu502b-fmri/data/bids/derivatives/fmriprep\" \n",
    "subjects = [\"sub-01/func/\", \"sub-03/func/\", \"sub-04/func/\"]  # Assuming 20 subjects, update as needed\n",
    "task_prefix = \"imagine\""
   ]
  },
  {
   "cell_type": "code",
   "execution_count": 36,
   "metadata": {},
   "outputs": [],
   "source": [
    "output_dir = \"neural_activity\"\n",
    "os.makedirs(output_dir, exist_ok=True)\n",
    "\n",
    "def extract_neural_activity(subject):\n",
    "    print(f\"Processing {subject}...\")\n",
    "\n",
    "    # Find the preprocessed BOLD image\n",
    "    bold_file = None\n",
    "    for f in os.listdir(os.path.join(data_dir, subject)):\n",
    "        if task_prefix in f and \"desc-preproc_bold.nii.gz\" in f:\n",
    "            bold_file = os.path.join(data_dir, subject, f)\n",
    "            break\n",
    "\n",
    "    if not bold_file:\n",
    "        print(f\"No preprocessed BOLD file found for {subject}.\")\n",
    "        return\n",
    "\n",
    "    # Load fMRI data\n",
    "    bold_img = nib.load(bold_file)\n",
    "\n",
    "    # Find brain mask\n",
    "    mask_file = None\n",
    "    for f in os.listdir(os.path.join(data_dir, subject)):\n",
    "        if task_prefix in f and \"desc-brain_mask.nii.gz\" in f:\n",
    "            mask_file = os.path.join(data_dir, subject, f)\n",
    "            break\n",
    "\n",
    "    if mask_file:\n",
    "        mask_img = nib.load(mask_file)\n",
    "        print(f\"Using brain mask: {mask_file}\")\n",
    "    else:\n",
    "        mask_img = masking.compute_epi_mask(bold_img)  # Compute mask if not provided\n",
    "        print(f\"Computed brain mask for {subject}.\")\n",
    "\n",
    "    # Extract time series from masked brain voxels\n",
    "    masker = NiftiMasker(mask_img=mask_img, standardize=True)\n",
    "    time_series = masker.fit_transform(bold_img)  # (timepoints x voxels)\n",
    "    \n",
    "    print(f\"Extracted neural activity shape: {time_series.shape}\")  # (T, N_voxels)\n",
    "\n"
   ]
  },
  {
   "cell_type": "code",
   "execution_count": 37,
   "metadata": {},
   "outputs": [
    {
     "name": "stdout",
     "output_type": "stream",
     "text": [
      "Processing sub-01/func/...\n",
      "Using brain mask: /jukebox/hasson/snastase/neu502b-2025/neu502b-fmri/data/bids/derivatives/fmriprep/sub-01/func/sub-01_task-imagine_space-MNI152NLin2009cAsym_desc-brain_mask.nii.gz\n"
     ]
    },
    {
     "name": "stderr",
     "output_type": "stream",
     "text": [
      "/usr/people/yx7967/miniconda3/envs/myenv/lib/python3.8/site-packages/nilearn/maskers/nifti_masker.py:110: UserWarning: imgs are being resampled to the mask_img resolution. This process is memory intensive. You might want to provide a target_affine that is equal to the affine of the imgs or resample the mask beforehand to save memory and computation time.\n",
      "  warnings.warn(\n"
     ]
    },
    {
     "name": "stdout",
     "output_type": "stream",
     "text": [
      "Extracted neural activity shape: (535, 73291)\n",
      "Processing sub-03/func/...\n",
      "Using brain mask: /jukebox/hasson/snastase/neu502b-2025/neu502b-fmri/data/bids/derivatives/fmriprep/sub-03/func/sub-03_task-imagine_space-T1w_desc-brain_mask.nii.gz\n",
      "Extracted neural activity shape: (535, 60764)\n",
      "Processing sub-04/func/...\n",
      "Using brain mask: /jukebox/hasson/snastase/neu502b-2025/neu502b-fmri/data/bids/derivatives/fmriprep/sub-04/func/sub-04_task-imagine_space-T1w_desc-brain_mask.nii.gz\n",
      "Extracted neural activity shape: (535, 56978)\n"
     ]
    }
   ],
   "source": [
    "# Run processing for all subjects\n",
    "for subject in subjects:\n",
    "    extract_neural_activity(subject)"
   ]
  },
  {
   "cell_type": "code",
   "execution_count": null,
   "metadata": {},
   "outputs": [],
   "source": []
  }
 ],
 "metadata": {
  "kernelspec": {
   "display_name": "myenv",
   "language": "python",
   "name": "python3"
  },
  "language_info": {
   "codemirror_mode": {
    "name": "ipython",
    "version": 3
   },
   "file_extension": ".py",
   "mimetype": "text/x-python",
   "name": "python",
   "nbconvert_exporter": "python",
   "pygments_lexer": "ipython3",
   "version": "3.8.20"
  }
 },
 "nbformat": 4,
 "nbformat_minor": 2
}
